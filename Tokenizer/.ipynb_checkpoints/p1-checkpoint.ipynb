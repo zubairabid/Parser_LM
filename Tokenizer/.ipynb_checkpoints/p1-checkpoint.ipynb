{
 "cells": [
  {
   "cell_type": "code",
   "execution_count": 2,
   "metadata": {},
   "outputs": [],
   "source": [
    "import re"
   ]
  },
  {
   "cell_type": "code",
   "execution_count": 15,
   "metadata": {},
   "outputs": [],
   "source": [
    "sentence = \"\\\"This is some\\\" pretty... cool-ass shit (m'boi), not..... gonna lie. 123,543,453. Pranav is the best @TA, #nohate. Email him @ pranav.g@mainman.com\"\n",
    "sent = \"\\\"This is some\\\" pretty... cool-ass shit (m'boi), not..... gonna lie. 123,543,453. Pranav is the best @TA, #nohate. Email him @ pra_nav.g+@mainman.com abc@ejdc.com avd @ nothingness @coolio mb@nvd abc.noth%ing@hhh.cs coolio.main+1@gmail.com nothinig@fen.d-v_d 1@gmail.com _@ndvd.vdvd zubair.abid@research.iiit.ac.in 2,017,243.43 www.google.com felicity https://pingiiit.org http://best-fucking_website.com researchweb.iiit.ac.in http://jeffreyfossett.com/2014/04/25/tokenizing-raw-text-in-python.html https://stackoverflow.com/questions/4588628/find-indices-of-elements-equal-to-zero-in-a-numpy-array $123,543,453 123,543,4.53$ 123,543,453% $32749832798327429832  34543543543 .34543,34 34.43 435! knvkjdsn43343nknf #foodprocess.cool #foodprocess.cool.nohomo #area51 food#noppe # event [coolio]\"\n",
    "emailcase = \"abc@ejdc.com avd @ nothingness @coolio mb@nvd abc.nothing@hhh.cs\"\n",
    "# emailcase\n",
    "\n",
    "breaking = '''@FaizanSayss And snap chat filters also 😁\n",
    "Berkat dia kita jadi tahu wajah Kore Utara yang sebenarnya. https://t.co/qM4fGnTSlh\n",
    "https://t.co/WxGWBDNdbm\n",
    "RT @ruckin_: your mcm says “damn thats crazy” when you’re sad https://t.co/PL8Wv7R0IC\n",
    "ao que ela publica. (2/2)\n",
    "@NewHopeClub @NewHopeBlake \n",
    "Hi, Blake !!! I'm your korean fan \n",
    "Korean time is your birthday nowww\n",
    "Congratulations o… https://t.co/n2NpwGVsol\n",
    "الدكتورالروحاني مقدادالقيرواني00905357838551 لزواج البنت البائر https://t.co/I6QsWd90QS https://t.co/G2HsclQXrn\n",
    "RT @YolandaRuizRCN: En el mundo ideal, en el que no vivimos, un expresidente investigado respetaría a la justicia y unos magistrados que in…\n",
    "@MissFruitini Oh no get better soon.\n",
    "I've started this one today xx https://t.co/xtI5hfCpmB\n",
    "¡De rojo en rojo y tiro porque me toca!\n",
    "Pero si hablamos de rojos no puede faltar el Salón Rojo del Hotel Santo Mau… https://t.co/2t43AEUiFS\n",
    "\n",
    "\n",
    "\n",
    "寝坊からのマイホでこの前話した神台突いてる可能性もあるのでよろしくお願いしますw\n",
    "'''\n",
    "\n",
    "emoji = '''ورالروحاني مقدادالقيرواني00905357838551 لزواج البنت البا\n",
    "坊からのマイホでこの前話した神台突いてる可能性もあるのでよろしくお願いしま\n",
    "😀 😁 😂 🤣 😃 😄 😅 😆 😉 😊 😋 😎 😍 😘 🥰 😗 😙 😚 ☺️ 🙂 🤗 🤩 🤔 🤨 😐 😑 😶 🙄 😏 😣 😥 😮 🤐 😯 😪 😫 😴 😌 😛 😜 😝 🤤 😒 😓 😔 😕 🙃 🤑 😲 ☹️ 🙁 😖 😞 😟 😤 😢 😭 😦 😧 😨 😩 🤯 😬 😰 😱 🥵 🥶 😳 🤪 😵 😡 😠 🤬 😷 🤒 🤕 🤢 🤮 🤧 😇 🤠 🤡 🥳 🥴 🥺 🤥 🤫 🤭 🧐 🤓 😈 👿 👹 👺 💀 👻 👽 🤖 💩 😺 😸 😹 😻 😼 😽 🙀 😿 😾\n",
    "People and Fantasy\n",
    "👶 👧 🧒 👦 👩 🧑 👨 👵 🧓 👴 👲 👳‍♀️ 👳‍♂️ 🧕 🧔 👱‍♂️ 👱‍♀️ 👨‍🦰 👩‍🦰 👨‍🦱 👩‍🦱 👨‍🦲 👩‍🦲 👨‍🦳 👩‍🦳 🦸‍♀️ 🦸‍♂️ 🦹‍♀️ 🦹‍♂️ 👮‍♀️ 👮‍♂️ 👷‍♀️ 👷‍♂️ 💂‍♀️ 💂‍♂️ 🕵️‍♀️ 🕵️‍♂️ 👩‍⚕️ 👨‍⚕️ 👩‍🌾 👨‍🌾 👩‍🍳 👨‍🍳 👩‍🎓 👨‍🎓 👩‍🎤 👨‍🎤 👩‍🏫 👨‍🏫 👩‍🏭 👨‍🏭 👩‍💻 👨‍💻 👩‍💼 👨‍💼 👩‍🔧 👨‍🔧 👩‍🔬 👨‍🔬 👩‍🎨 👨‍🎨 👩‍🚒 👨‍🚒 👩‍✈️ 👨‍✈️ 👩‍🚀 👨‍🚀 👩‍⚖️ 👨‍⚖️ 👰 🤵 👸 🤴 🤶 🎅 🧙‍♀️ 🧙‍♂️ 🧝‍♀️ 🧝‍♂️ 🧛‍♀️ 🧛‍♂️ 🧟‍♀️ 🧟‍♂️ 🧞‍♀️ 🧞‍♂️ 🧜‍♀️ 🧜‍♂️ 🧚‍♀️ 🧚‍♂️ 👼 🤰 🤱 🙇‍♀️ 🙇‍♂️ 💁‍♀️ 💁‍♂️ 🙅‍♀️ 🙅‍♂️ 🙆‍♀️ 🙆‍♂️ 🙋‍♀️ 🙋‍♂️ 🤦‍♀️ 🤦‍♂️ 🤷‍♀️ 🤷‍♂️ 🙎‍♀️ 🙎‍♂️ 🙍‍♀️ 🙍‍♂️ 💇‍♀️ 💇‍♂️ 💆‍♀️ 💆‍♂️ 🧖‍♀️ 🧖‍♂️ 💅 🤳 💃 🕺 👯‍♀️ 👯‍♂️ 🕴 🚶‍♀️ 🚶‍♂️ 🏃‍♀️ 🏃‍♂️ 👫 👭 👬 💑 👩‍❤️‍👩 👨‍❤️‍👨 💏 👩‍❤️‍💋‍👩 👨‍❤️‍💋‍👨 👪 👨‍👩‍👧 👨‍👩‍👧‍👦 👨‍👩‍👦‍👦 👨‍👩‍👧‍👧 👩‍👩‍👦 👩‍👩‍👧 👩‍👩‍👧‍👦 👩‍👩‍👦‍👦 👩‍👩‍👧‍👧 👨‍👨‍👦 👨‍👨‍👧 👨‍👨‍👧‍👦 👨‍👨‍👦‍👦 👨‍👨‍👧‍👧 👩‍👦 👩‍👧 👩‍👧‍👦 👩‍👦‍👦 👩‍👧‍👧 👨‍👦 👨‍👧 👨‍👧‍👦 👨‍👦‍👦 👨‍👧‍👧 🤲 👐 🙌 👏 🤝 👍 👎 👊 ✊ 🤛 🤜 🤞 ✌️ 🤟 🤘 👌 👈 👉 👆 👇 ☝️ ✋ 🤚 🖐 🖖 👋 🤙 💪 🦵 🦶 🖕 ✍️ 🙏 💍 💄 💋 👄 👅 👂 👃 👣 👁 👀 🧠 🦴 🦷 🗣 👤 👥\n",
    "Clothing and Accessories'''"
   ]
  },
  {
   "cell_type": "code",
   "execution_count": 23,
   "metadata": {},
   "outputs": [],
   "source": [
    "import string"
   ]
  },
  {
   "cell_type": "code",
   "execution_count": 17,
   "metadata": {},
   "outputs": [
    {
     "name": "stdout",
     "output_type": "stream",
     "text": [
      "['pra_nav.g+@mainman.com', 'abc@ejdc.com', 'abc.noth%ing@hhh.cs', 'coolio.main+1@gmail.com', 'nothinig@fen.d', '1@gmail.com', 'zubair.abid@research.iiit.ac.in']\n",
      "['123,543,453', '1', '2,017,243.43', '$123,543,453', '123,543,4.53$', '123,543,453', '$32749832798327429832', '34543543543', '34.43', '435']\n",
      "['www.google.com', 'https://pingiiit.org', 'http://best-fucking_website.com', 'http://jeffreyfossett.com/2014/04/25/tokenizing-raw-text-in-python.html', 'https://stackoverflow.com/questions/4588628/find-indices-of-elements-equal-to-zero-in-a-numpy-array']\n",
      "['@TA', '@coolio']\n",
      "['#nohate', '#foodprocess.cool', '#foodprocess.cool.nohomo', '#area51', '#noppe']\n",
      "['...', '.....']\n",
      "['This', 'is', 'some', 'pretty', 'cool', 'ass', 'shit', 'm', 'boi', 'not', 'gonna', 'lie', '123', '543', '453', 'Pranav', 'is', 'the', 'best', 'TA', 'nohate', 'Email', 'him', 'pra_nav', 'g', 'mainman', 'com', 'abc', 'ejdc', 'com', 'avd', 'nothingness', 'coolio', 'mb', 'nvd', 'abc', 'noth', 'ing', 'hhh', 'cs', 'coolio', 'main', '1', 'gmail', 'com', 'nothinig', 'fen', 'd', 'v_d', '1', 'gmail', 'com', '_', 'ndvd', 'vdvd', 'zubair', 'abid', 'research', 'iiit', 'ac', 'in', '2', '017', '243', '43', 'www', 'google', 'com', 'felicity', 'https', 'pingiiit', 'org', 'http', 'best', 'fucking_website', 'com', 'researchweb', 'iiit', 'ac', 'in', 'http', 'jeffreyfossett', 'com', '2014', '04', '25', 'tokenizing', 'raw', 'text', 'in', 'python', 'html', 'https', 'stackoverflow', 'com', 'questions', '4588628', 'find', 'indices', 'of', 'elements', 'equal', 'to', 'zero', 'in', 'a', 'numpy', 'array', '123', '543', '453', '123', '543', '4', '53', '123', '543', '453', '32749832798327429832', '34543543543', '34543', '34', '34', '43', '435', 'knvkjdsn43343nknf', 'foodprocess', 'cool', 'foodprocess', 'cool', 'nohomo', 'area51', 'food', 'noppe', 'event', 'coolio']\n"
     ]
    }
   ],
   "source": [
    "# re.findall('[A-Z0-9a-z]+[A-Z0-9a-z._%+-]*@[A-Z0-9a-z]+(?:\\.[A-Z0-9a-z]+)+|(?<= )[$€£¥₹]?[0-9]+(?:[,.][0-9]+)*[$€£¥₹]?|(?:(?:https?:\\/\\/(?:www.)?)|www.)[A-Z0-9a-z_-]+(?:\\.[A-Z0-9a-z_\\/-]+)+|(?<= )@[A-Z0-9a-z._%+]+|#[A-Za-z0-9]+(?:\\.[A-Za-z0-9]+)*|\\.{3,}|[\"\\',.()\\[\\]{}_\\-@!?#%]|[A-Za-z0-9]+', sent)\n",
    "print(re.findall(r'[A-Z0-9a-z]+[A-Z0-9a-z._%+-]*@[A-Z0-9a-z]+(?:\\.[A-Z0-9a-z]+)+', sent))\n",
    "print(re.findall(r'(?<= )[$€£¥₹]?[0-9]+(?:[,.][0-9]+)*[$€£¥₹]?', sent))\n",
    "print(re.findall(r'(?:(?:https?:\\/\\/(?:www.)?)|www.)[A-Z0-9a-z_-]+(?:\\.[A-Z0-9a-z_\\/-]+)+', sent))\n",
    "print(re.findall(r'(?<= )@[A-Z0-9a-z._%+]+', sent))\n",
    "print(re.findall(r'#[A-Za-z0-9]+(?:\\.[A-Za-z0-9]+)*', sent))\n",
    "print(re.findall(r'\\.{3,}', sent))\n",
    "print(re.findall(r'\\w+', sent))\n",
    "print(re.findall(string.punctuation, sent))\n",
    "# print(re.findall(r'(?:\\u00a9|\\u00ae|[\\u2000-\\u3300]|\\ud83c[\\ud000-\\udfff]|\\ud83d[\\ud000-\\udfff]|\\ud83e[\\ud000-\\udfff])', emoji))"
   ]
  },
  {
   "cell_type": "code",
   "execution_count": 21,
   "metadata": {},
   "outputs": [],
   "source": [
    "def reg_tokenize(sent):\n",
    "    return re.findall(r'[A-Z0-9a-z]+[A-Z0-9a-z._%+-]*@[A-Z0-9a-z]+(?:\\.[A-Z0-9a-z]+)+|(?<= )[$€£¥₹]?[0-9]+(?:[,.][0-9]+)*[$€£¥₹]?|(?:(?:https?:\\/\\/(?:www.)?)|www.)[A-Z0-9a-z_-]+(?:\\.[A-Z0-9a-z_\\/-]+)+|(?<= )@[A-Z0-9a-z._%+]+|#[A-Za-z0-9]+(?:\\.[A-Za-z0-9]+)*|\\.{3,}|[\"\\':,.()\\[\\]{}_\\-@!?#%]|\\w+', sent)"
   ]
  },
  {
   "cell_type": "code",
   "execution_count": 22,
   "metadata": {},
   "outputs": [
    {
     "data": {
      "text/plain": [
       "['@',\n",
       " 'FaizanSayss',\n",
       " 'And',\n",
       " 'snap',\n",
       " 'chat',\n",
       " 'filters',\n",
       " 'also',\n",
       " 'Berkat',\n",
       " 'dia',\n",
       " 'kita',\n",
       " 'jadi',\n",
       " 'tahu',\n",
       " 'wajah',\n",
       " 'Kore',\n",
       " 'Utara',\n",
       " 'yang',\n",
       " 'sebenarnya',\n",
       " '.',\n",
       " 'https://t.co/qM4fGnTSlh',\n",
       " 'https://t.co/WxGWBDNdbm',\n",
       " 'RT',\n",
       " '@ruckin_',\n",
       " ':',\n",
       " 'your',\n",
       " 'mcm',\n",
       " 'says',\n",
       " 'damn',\n",
       " 'thats',\n",
       " 'crazy',\n",
       " 'when',\n",
       " 'you',\n",
       " 're',\n",
       " 'sad',\n",
       " 'https://t.co/PL8Wv7R0IC',\n",
       " 'ao',\n",
       " 'que',\n",
       " 'ela',\n",
       " 'publica',\n",
       " '.',\n",
       " '(',\n",
       " '2',\n",
       " '2',\n",
       " ')',\n",
       " '@',\n",
       " 'NewHopeClub',\n",
       " '@NewHopeBlake',\n",
       " 'Hi',\n",
       " ',',\n",
       " 'Blake',\n",
       " '!',\n",
       " '!',\n",
       " '!',\n",
       " 'I',\n",
       " \"'\",\n",
       " 'm',\n",
       " 'your',\n",
       " 'korean',\n",
       " 'fan',\n",
       " 'Korean',\n",
       " 'time',\n",
       " 'is',\n",
       " 'your',\n",
       " 'birthday',\n",
       " 'nowww',\n",
       " 'Congratulations',\n",
       " 'o',\n",
       " 'https://t.co/n2NpwGVsol',\n",
       " 'الدكتورالروحاني',\n",
       " 'مقدادالقيرواني00905357838551',\n",
       " 'لزواج',\n",
       " 'البنت',\n",
       " 'البائر',\n",
       " 'https://t.co/I6QsWd90QS',\n",
       " 'https://t.co/G2HsclQXrn',\n",
       " 'RT',\n",
       " '@YolandaRuizRCN',\n",
       " ':',\n",
       " 'En',\n",
       " 'el',\n",
       " 'mundo',\n",
       " 'ideal',\n",
       " ',',\n",
       " 'en',\n",
       " 'el',\n",
       " 'que',\n",
       " 'no',\n",
       " 'vivimos',\n",
       " ',',\n",
       " 'un',\n",
       " 'expresidente',\n",
       " 'investigado',\n",
       " 'respetaría',\n",
       " 'a',\n",
       " 'la',\n",
       " 'justicia',\n",
       " 'y',\n",
       " 'unos',\n",
       " 'magistrados',\n",
       " 'que',\n",
       " 'in',\n",
       " '@',\n",
       " 'MissFruitini',\n",
       " 'Oh',\n",
       " 'no',\n",
       " 'get',\n",
       " 'better',\n",
       " 'soon',\n",
       " '.',\n",
       " 'I',\n",
       " \"'\",\n",
       " 've',\n",
       " 'started',\n",
       " 'this',\n",
       " 'one',\n",
       " 'today',\n",
       " 'xx',\n",
       " 'https://t.co/xtI5hfCpmB',\n",
       " 'De',\n",
       " 'rojo',\n",
       " 'en',\n",
       " 'rojo',\n",
       " 'y',\n",
       " 'tiro',\n",
       " 'porque',\n",
       " 'me',\n",
       " 'toca',\n",
       " '!',\n",
       " 'Pero',\n",
       " 'si',\n",
       " 'hablamos',\n",
       " 'de',\n",
       " 'rojos',\n",
       " 'no',\n",
       " 'puede',\n",
       " 'faltar',\n",
       " 'el',\n",
       " 'Salón',\n",
       " 'Rojo',\n",
       " 'del',\n",
       " 'Hotel',\n",
       " 'Santo',\n",
       " 'Mau',\n",
       " 'https://t.co/2t43AEUiFS',\n",
       " '寝坊からのマイホでこの前話した神台突いてる可能性もあるのでよろしくお願いしますw']"
      ]
     },
     "execution_count": 22,
     "metadata": {},
     "output_type": "execute_result"
    }
   ],
   "source": [
    "reg_tokenize(breaking)"
   ]
  },
  {
   "cell_type": "code",
   "execution_count": 7,
   "metadata": {},
   "outputs": [
    {
     "data": {
      "text/plain": [
       "\"@FaizanSayss And snap chat filters also 😁\\nBerkat dia kita jadi tahu wajah Kore Utara yang sebenarnya. https://t.co/qM4fGnTSlh\\nhttps://t.co/WxGWBDNdbm\\nRT @ruckin_: your mcm says “damn thats crazy” when you’re sad https://t.co/PL8Wv7R0IC\\nao que ela publica. (2/2)\\n@NewHopeClub @NewHopeBlake \\nHi, Blake !!! I'm your korean fan \\nKorean time is your birthday nowww\\nCongratulations o… https://t.co/n2NpwGVsol\\nالدكتورالروحاني مقدادالقيرواني00905357838551 لزواج البنت البائر https://t.co/I6QsWd90QS https://t.co/G2HsclQXrn\\nRT @YolandaRuizRCN: En el mundo ideal, en el que no vivimos, un expresidente investigado respetaría a la justicia y unos magistrados que in…\\n@MissFruitini Oh no get better soon.\\nI've started this one today xx https://t.co/xtI5hfCpmB\\n¡De rojo en rojo y tiro porque me toca!\\nPero si hablamos de rojos no puede faltar el Salón Rojo del Hotel Santo Mau… https://t.co/2t43AEUiFS\\n\\n\\n\\n寝坊からのマイホでこの前話した神台突いてる可能性もあるのでよろしくお願いしますw\\n\""
      ]
     },
     "execution_count": 7,
     "metadata": {},
     "output_type": "execute_result"
    }
   ],
   "source": [
    "breaking"
   ]
  },
  {
   "cell_type": "code",
   "execution_count": 16,
   "metadata": {},
   "outputs": [
    {
     "ename": "KeyboardInterrupt",
     "evalue": "",
     "output_type": "error",
     "traceback": [
      "\u001b[0;31m---------------------------------------------------------------------------\u001b[0m",
      "\u001b[0;31mKeyboardInterrupt\u001b[0m                         Traceback (most recent call last)",
      "\u001b[0;32m<timed exec>\u001b[0m in \u001b[0;36m<module>\u001b[0;34m\u001b[0m\n",
      "\u001b[0;31mKeyboardInterrupt\u001b[0m: "
     ]
    }
   ],
   "source": [
    "%%time\n",
    "with open('../corpus1.txt') as f:\n",
    "    sent = f.read()\n",
    "    r = reg_tokenize(sent)\n",
    "    \n",
    "r"
   ]
  },
  {
   "cell_type": "code",
   "execution_count": null,
   "metadata": {},
   "outputs": [],
   "source": []
  },
  {
   "cell_type": "code",
   "execution_count": null,
   "metadata": {},
   "outputs": [],
   "source": []
  },
  {
   "cell_type": "code",
   "execution_count": null,
   "metadata": {},
   "outputs": [],
   "source": []
  },
  {
   "cell_type": "code",
   "execution_count": null,
   "metadata": {},
   "outputs": [],
   "source": []
  },
  {
   "cell_type": "code",
   "execution_count": null,
   "metadata": {},
   "outputs": [],
   "source": []
  },
  {
   "cell_type": "code",
   "execution_count": null,
   "metadata": {},
   "outputs": [],
   "source": []
  },
  {
   "cell_type": "code",
   "execution_count": null,
   "metadata": {},
   "outputs": [],
   "source": []
  }
 ],
 "metadata": {
  "kernelspec": {
   "display_name": "Python 3",
   "language": "python",
   "name": "python3"
  },
  "language_info": {
   "codemirror_mode": {
    "name": "ipython",
    "version": 3
   },
   "file_extension": ".py",
   "mimetype": "text/x-python",
   "name": "python",
   "nbconvert_exporter": "python",
   "pygments_lexer": "ipython3",
   "version": "3.7.4"
  }
 },
 "nbformat": 4,
 "nbformat_minor": 2
}
