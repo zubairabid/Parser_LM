{
 "cells": [
  {
   "cell_type": "code",
   "execution_count": 4,
   "metadata": {},
   "outputs": [],
   "source": [
    "import re\n",
    "from collections import Counter, defaultdict\n",
    "import math\n"
   ]
  },
  {
   "cell_type": "code",
   "execution_count": 3,
   "metadata": {},
   "outputs": [],
   "source": [
    "def reg_tokenize(sent):\n",
    "    fin = []\n",
    "    for line in iter(sent.splitlines()):\n",
    "        fin.append(' '.join(re.findall(r'[\\U00010000-\\U0010ffff]'\\\n",
    "                                       r'|[A-Z0-9a-z]+[A-Z0-9a-z._%+-]*@[A-Z0-9a-z]+(?:\\.[A-Z0-9a-z]+)+'\\\n",
    "                                       r'|(?<= )[$€£¥₹]?[0-9]+(?:[,.][0-9]+)*[$€£¥₹]?'\\\n",
    "                                       r'|(?:(?:https?:\\/\\/(?:www.)?)|www.)[A-Z0-9a-z_-]+(?:\\.[A-Z0-9a-z_\\/-]+)+'\\\n",
    "                                       r'|(?:(?<=[^A-Za-z0-9])|^)@[A-Z0-9a-z._+]+[A-Za-z0-9_]'\\\n",
    "                                       r'|#[A-Za-z0-9]+(?:[\\._-][A-Za-z0-9]+)*'\\\n",
    "                                       r'|\\.{3,}'\\\n",
    "                                       r'|[!\"#$%\\&\\'()*+,\\-.:;<=>?@\\[\\\\\\/\\]\\^_`{\\|}~]'\\\n",
    "                                       r'|[A-Z]\\.'\\\n",
    "                                       r'|\\w+', line)))\n",
    "    return fin\n"
   ]
  }
 ],
 "metadata": {
  "kernelspec": {
   "display_name": "Python 3",
   "language": "python",
   "name": "python3"
  },
  "language_info": {
   "codemirror_mode": {
    "name": "ipython",
    "version": 3
   },
   "file_extension": ".py",
   "mimetype": "text/x-python",
   "name": "python",
   "nbconvert_exporter": "python",
   "pygments_lexer": "ipython3",
   "version": "3.7.4"
  }
 },
 "nbformat": 4,
 "nbformat_minor": 2
}
