{
 "cells": [
  {
   "cell_type": "code",
   "execution_count": 48,
   "metadata": {},
   "outputs": [],
   "source": [
    "from collections import Counter, defaultdict"
   ]
  },
  {
   "cell_type": "code",
   "execution_count": 21,
   "metadata": {},
   "outputs": [
    {
     "data": {
      "text/plain": [
       "(1, 2, 3, 4, 5, 6)"
      ]
     },
     "execution_count": 21,
     "metadata": {},
     "output_type": "execute_result"
    }
   ],
   "source": [
    "lis = [1, 2, 3, 4, 5, 6, 7]\n",
    "tuple(lis[:len(lis)-1])"
   ]
  },
  {
   "cell_type": "markdown",
   "metadata": {},
   "source": [
    "## A basic n-gram generator"
   ]
  },
  {
   "cell_type": "code",
   "execution_count": 58,
   "metadata": {},
   "outputs": [],
   "source": [
    "import re\n",
    "from nltk.tokenize import word_tokenize\n",
    "\n",
    "def ngrams(sentence, n):\n",
    "    '''\n",
    "    This currently does not accomodate for numbers with punctuation.\n",
    "    '''\n",
    "    sentence = sentence.lower()\n",
    "    \n",
    "#     # Replace all none alphanumeric characters with spaces\n",
    "#     sentence = re.sub(r'[^a-zA-Z0-9\\s]', '', sentence)\n",
    "#     # Final output: all tokens\n",
    "#     tokens= [token for token in sentence.split(\" \") if token != \" \"]\n",
    "    \n",
    "    tokens = word_tokenize(sentence)\n",
    "    \n",
    "    ngrams = zip(*[tokens[i:] for i in range(n)])\n",
    "    return [ngram for ngram in ngrams]"
   ]
  },
  {
   "cell_type": "code",
   "execution_count": 5,
   "metadata": {},
   "outputs": [],
   "source": [
    "def read_in_chunks(file_object, chunk_size=4096):\n",
    "    \"\"\"Lazy function (generator) to read a file piece by piece.\n",
    "    Default chunk size: 4k.\"\"\"\n",
    "    while True:\n",
    "        data = file_object.read(chunk_size)\n",
    "        if not data:\n",
    "            break\n",
    "        yield data\n"
   ]
  },
  {
   "cell_type": "code",
   "execution_count": 59,
   "metadata": {
    "scrolled": true
   },
   "outputs": [
    {
     "name": "stdout",
     "output_type": "stream",
     "text": [
      "CPU times: user 1.15 s, sys: 9.84 ms, total: 1.16 s\n",
      "Wall time: 1.19 s\n"
     ]
    }
   ],
   "source": [
    "%%time\n",
    "\n",
    "def create_model(file=\"../corpus3.txt\", n=3):\n",
    "    '''\n",
    "    Takes a file to train on, an 'n'\n",
    "    Returns predictive n-gram model\n",
    "    '''\n",
    "    \n",
    "    # Create a placeholder for model\n",
    "    model = defaultdict(lambda: defaultdict(lambda: 0))\n",
    "\n",
    "    with open(file, 'r') as f:\n",
    "#         for piece in read_in_chunks(f, chunk_size=2097152):\n",
    "        \n",
    "        for line in f:\n",
    "            for ngram in ngrams(line, n=n):\n",
    "                wprec = tuple(ngram[:n-1])\n",
    "                waft = ngram[n-1]\n",
    "                model[wprec][waft] += 1\n",
    "        f.close()    \n",
    "\n",
    "    for wprec in model:\n",
    "        total_count = float(sum(model[wprec].values()))\n",
    "        for waft in model[wprec]:\n",
    "            model[wprec][waft] /= total_count\n",
    "            \n",
    "    return model\n",
    "\n",
    "model = create_model(n=2)"
   ]
  },
  {
   "cell_type": "code",
   "execution_count": 60,
   "metadata": {},
   "outputs": [
    {
     "data": {
      "text/plain": [
       "defaultdict(<function __main__.create_model.<locals>.<lambda>.<locals>.<lambda>()>,\n",
       "            {\"'\": 0.16666666666666666,\n",
       "             'per': 0.045454545454545456,\n",
       "             \"''\": 0.5151515151515151,\n",
       "             'or': 0.015151515151515152,\n",
       "             '’': 0.015151515151515152,\n",
       "             'is': 0.015151515151515152,\n",
       "             '900': 0.015151515151515152,\n",
       "             'in': 0.030303030303030304,\n",
       "             '50,000': 0.015151515151515152,\n",
       "             'today': 0.015151515151515152,\n",
       "             '”': 0.015151515151515152,\n",
       "             '?': 0.015151515151515152,\n",
       "             'of': 0.015151515151515152,\n",
       "             'radio': 0.015151515151515152,\n",
       "             '50': 0.015151515151515152,\n",
       "             'and': 0.015151515151515152,\n",
       "             '150': 0.015151515151515152,\n",
       "             'old': 0.015151515151515152,\n",
       "             'said': 0.015151515151515152,\n",
       "             '3.50': 0.015151515151515152})"
      ]
     },
     "execution_count": 60,
     "metadata": {},
     "output_type": "execute_result"
    }
   ],
   "source": [
    "model[('.',)]"
   ]
  },
  {
   "cell_type": "code",
   "execution_count": null,
   "metadata": {
    "scrolled": true
   },
   "outputs": [],
   "source": [
    "def perplexity(file='../corpus3.txt', model, n):\n",
    "    \n",
    "    perlexity = 1\n",
    "    \n",
    "    \n",
    "            \n",
    "#     test = ngrams(t)\n",
    "#     perplexity = 1\n",
    "#     N = 0\n",
    "#     for word in testset:\n",
    "#         N += 1\n",
    "#         perplexity = perplexity * (1/model[word])\n",
    "#     perplexity = pow(perplexity, 1/float(N)) \n",
    "    return perplexity"
   ]
  },
  {
   "cell_type": "code",
   "execution_count": null,
   "metadata": {},
   "outputs": [],
   "source": []
  }
 ],
 "metadata": {
  "kernelspec": {
   "display_name": "Python 3",
   "language": "python",
   "name": "python3"
  },
  "language_info": {
   "codemirror_mode": {
    "name": "ipython",
    "version": 3
   },
   "file_extension": ".py",
   "mimetype": "text/x-python",
   "name": "python",
   "nbconvert_exporter": "python",
   "pygments_lexer": "ipython3",
   "version": "3.7.4"
  }
 },
 "nbformat": 4,
 "nbformat_minor": 2
}
